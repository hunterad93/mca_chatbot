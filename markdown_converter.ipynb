{
 "cells": [
  {
   "cell_type": "code",
   "execution_count": 1,
   "metadata": {},
   "outputs": [
    {
     "name": "stdout",
     "output_type": "stream",
     "text": [
      "Number of duplicate URLs: 0\n"
     ]
    }
   ],
   "source": [
    "import json\n",
    "\n",
    "# Initialize a set to store unique URLs\n",
    "unique_urls = set()\n",
    "\n",
    "# Initialize a counter for duplicate URLs\n",
    "duplicate_count = 0\n",
    "\n",
    "# Open and read the file\n",
    "with open('visited.jsonl', 'r') as file:\n",
    "    for line in file:\n",
    "        data = json.loads(line)\n",
    "        url = data['url']\n",
    "        if url in unique_urls:\n",
    "            duplicate_count += 1\n",
    "        else:\n",
    "            unique_urls.add(url)\n",
    "\n",
    "# Output the result\n",
    "print(f\"Number of duplicate URLs: {duplicate_count}\")"
   ]
  },
  {
   "cell_type": "code",
   "execution_count": 2,
   "metadata": {},
   "outputs": [
    {
     "name": "stdout",
     "output_type": "stream",
     "text": [
      "Markdown files are organized in markdown_files/\n"
     ]
    }
   ],
   "source": [
    "import json\n",
    "from markdownify import markdownify as md\n",
    "import os\n",
    "import re\n",
    "\n",
    "# Base directory to save markdown files\n",
    "base_output_dir = 'markdown_files'\n",
    "\n",
    "# Regular expressions to match title and chapter\n",
    "title_regex = re.compile(r'/title_(\\d+)/')\n",
    "chapter_regex = re.compile(r'/chapter_(\\d+)/')\n",
    "\n",
    "# Open and read the file\n",
    "with open('visited.jsonl', 'r') as file:\n",
    "    for line in file:\n",
    "        data = json.loads(line)\n",
    "        html_content = data['html']\n",
    "        url = data['url']\n",
    "\n",
    "        # Convert HTML to Markdown\n",
    "        markdown_content = md(html_content)\n",
    "\n",
    "        # Extract title and chapter using regex\n",
    "        title_match = title_regex.search(url)\n",
    "        chapter_match = chapter_regex.search(url)\n",
    "\n",
    "        # Determine the directory based on title and chapter presence\n",
    "        if title_match:\n",
    "            title = title_match.group(1)\n",
    "            title_dir = os.path.join(base_output_dir, f\"title_{title}\")\n",
    "            if chapter_match:\n",
    "                chapter = chapter_match.group(1)\n",
    "                chapter_dir = os.path.join(title_dir, f\"chapter_{chapter}\")\n",
    "                os.makedirs(chapter_dir, exist_ok=True)\n",
    "                target_dir = chapter_dir\n",
    "            else:\n",
    "                os.makedirs(title_dir, exist_ok=True)\n",
    "                target_dir = title_dir\n",
    "        else:\n",
    "            target_dir = base_output_dir\n",
    "\n",
    "        # Replace '/' with '---' in the URL to use as filename\n",
    "        filename = url.replace('/', '---') + \".md\"\n",
    "\n",
    "        # Save the markdown content to the file within the appropriate directory\n",
    "        file_path = os.path.join(target_dir, filename)\n",
    "        with open(file_path, 'w') as md_file:\n",
    "            md_file.write(markdown_content)\n",
    "\n",
    "print(f\"Markdown files are organized in {base_output_dir}/\")"
   ]
  },
  {
   "cell_type": "code",
   "execution_count": 3,
   "metadata": {},
   "outputs": [
    {
     "name": "stdout",
     "output_type": "stream",
     "text": [
      "Combined chapter documents are saved in mca_knowledge_base/\n"
     ]
    }
   ],
   "source": [
    "import os\n",
    "\n",
    "# Base directory where markdown files are organized\n",
    "base_output_dir = 'markdown_files'\n",
    "\n",
    "# New directory to store combined chapter documents\n",
    "knowledge_base_dir = 'mca_knowledge_base'\n",
    "os.makedirs(knowledge_base_dir, exist_ok=True)\n",
    "\n",
    "# Function to combine markdown files in a directory\n",
    "def combine_markdown_files(directory, output_file):\n",
    "    with open(output_file, 'w') as outfile:\n",
    "        for filename in sorted(os.listdir(directory)):\n",
    "            filepath = os.path.join(directory, filename)\n",
    "            if os.path.isfile(filepath) and filepath.endswith('.md'):\n",
    "                with open(filepath, 'r') as readfile:\n",
    "                    outfile.write(readfile.read() + '\\n\\n')\n",
    "\n",
    "# Traverse the directory structure\n",
    "for title_dir_name in os.listdir(base_output_dir):\n",
    "    title_dir_path = os.path.join(base_output_dir, title_dir_name)\n",
    "    if os.path.isdir(title_dir_path):\n",
    "        for chapter_dir_name in os.listdir(title_dir_path):\n",
    "            chapter_dir_path = os.path.join(title_dir_path, chapter_dir_name)\n",
    "            if os.path.isdir(chapter_dir_path):\n",
    "                # Define the output file path for the combined document\n",
    "                combined_filename = f\"{title_dir_name}---{chapter_dir_name}.md\"\n",
    "                combined_filepath = os.path.join(knowledge_base_dir, combined_filename)\n",
    "                # Combine all markdown files in this chapter directory\n",
    "                combine_markdown_files(chapter_dir_path, combined_filepath)\n",
    "\n",
    "print(f\"Combined chapter documents are saved in {knowledge_base_dir}/\")"
   ]
  },
  {
   "cell_type": "code",
   "execution_count": 4,
   "metadata": {},
   "outputs": [
    {
     "name": "stdout",
     "output_type": "stream",
     "text": [
      "Combined part documents are saved in mca_knowledge_base2/\n"
     ]
    }
   ],
   "source": [
    "import os\n",
    "\n",
    "# Base directory where markdown files are organized\n",
    "base_output_dir = 'markdown_files'\n",
    "\n",
    "# New directory to store combined part documents\n",
    "knowledge_base_dir = 'mca_knowledge_base2'\n",
    "os.makedirs(knowledge_base_dir, exist_ok=True)\n",
    "\n",
    "# Function to combine markdown files in a directory\n",
    "def combine_markdown_files(directory, output_file):\n",
    "    with open(output_file, 'w') as outfile:\n",
    "        for filename in sorted(os.listdir(directory)):\n",
    "            filepath = os.path.join(directory, filename)\n",
    "            if os.path.isfile(filepath) and filepath.endswith('.md'):\n",
    "                with open(filepath, 'r') as readfile:\n",
    "                    outfile.write(readfile.read() + '\\n\\n')\n",
    "\n",
    "# Traverse the directory structure\n",
    "for title_dir_name in os.listdir(base_output_dir):\n",
    "    title_dir_path = os.path.join(base_output_dir, title_dir_name)\n",
    "    if os.path.isdir(title_dir_path):\n",
    "        for chapter_dir_name in os.listdir(title_dir_path):\n",
    "            chapter_dir_path = os.path.join(title_dir_path, chapter_dir_name)\n",
    "            if os.path.isdir(chapter_dir_path):\n",
    "                # Dictionary to hold parts and their corresponding files\n",
    "                parts_dict = {}\n",
    "                for filename in os.listdir(chapter_dir_path):\n",
    "                    if filename.endswith('.md'):\n",
    "                        part_match = re.search(r'part_(\\d+)', filename)\n",
    "                        if part_match:\n",
    "                            part = part_match.group(1)\n",
    "                            if part not in parts_dict:\n",
    "                                parts_dict[part] = []\n",
    "                            parts_dict[part].append(filename)\n",
    "                \n",
    "                # Combine files for each part\n",
    "                for part, files in parts_dict.items():\n",
    "                    combined_filename = f\"{title_dir_name}---{chapter_dir_name}---part_{part}.md\"\n",
    "                    combined_filepath = os.path.join(knowledge_base_dir, combined_filename)\n",
    "                    with open(combined_filepath, 'w') as outfile:\n",
    "                        for filename in sorted(files):\n",
    "                            filepath = os.path.join(chapter_dir_path, filename)\n",
    "                            with open(filepath, 'r') as readfile:\n",
    "                                outfile.write(readfile.read() + '\\n\\n')\n",
    "\n",
    "print(f\"Combined part documents are saved in {knowledge_base_dir}/\")"
   ]
  }
 ],
 "metadata": {
  "kernelspec": {
   "display_name": "streamlitenv",
   "language": "python",
   "name": "python3"
  },
  "language_info": {
   "codemirror_mode": {
    "name": "ipython",
    "version": 3
   },
   "file_extension": ".py",
   "mimetype": "text/x-python",
   "name": "python",
   "nbconvert_exporter": "python",
   "pygments_lexer": "ipython3",
   "version": "3.11.0"
  }
 },
 "nbformat": 4,
 "nbformat_minor": 2
}
